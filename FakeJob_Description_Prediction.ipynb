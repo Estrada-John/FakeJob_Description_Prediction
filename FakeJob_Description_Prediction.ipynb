{
  "nbformat": 4,
  "nbformat_minor": 0,
  "metadata": {
    "kernelspec": {
      "display_name": "Python 3",
      "language": "python",
      "name": "python3"
    },
    "language_info": {
      "codemirror_mode": {
        "name": "ipython",
        "version": 3
      },
      "file_extension": ".py",
      "mimetype": "text/x-python",
      "name": "python",
      "nbconvert_exporter": "python",
      "pygments_lexer": "ipython3",
      "version": "3.7.6"
    },
    "colab": {
      "name": "FakeJob_Description_Prediction.ipynb",
      "provenance": [],
      "collapsed_sections": [
        "i75kb8T8Y6GG",
        "pJC13hB9WNwK",
        "gXmOJqnkWRXS",
        "JUGPjOFGY6GM",
        "W0z243tZDBRL",
        "IBU7LsqfY6GQ"
      ],
      "machine_shape": "hm",
      "include_colab_link": true
    }
  },
  "cells": [
    {
      "cell_type": "markdown",
      "metadata": {
        "id": "view-in-github",
        "colab_type": "text"
      },
      "source": [
        "<a href=\"https://colab.research.google.com/github/Estrada-John/FakeJob_Description_Prediction/blob/master/FakeJob_Description_Prediction.ipynb\" target=\"_parent\"><img src=\"https://colab.research.google.com/assets/colab-badge.svg\" alt=\"Open In Colab\"/></a>"
      ]
    },
    {
      "cell_type": "markdown",
      "metadata": {
        "id": "U5vEvS41Y6GC",
        "colab_type": "text"
      },
      "source": [
        "# <center>ECE 49500/59500 Machine Learning</center>\n",
        "### <center>Sping 2020 </center> \n",
        "## <center>Fake Job Classification using using Naive Bayes Classifier</center> "
      ]
    },
    {
      "cell_type": "markdown",
      "metadata": {
        "id": "u-Pqe_0oY6GD",
        "colab_type": "text"
      },
      "source": [
        "The following line Install NLTK outline for installing NLTK. NLTK is a set of libraries for Natural Language Processing"
      ]
    },
    {
      "cell_type": "code",
      "metadata": {
        "id": "cbm6ej9MhU9K",
        "colab_type": "code",
        "outputId": "92b6a70c-8cc8-432e-e0de-db84314b62ec",
        "colab": {
          "base_uri": "https://localhost:8080/",
          "height": 52
        }
      },
      "source": [
        "! pip install nltk"
      ],
      "execution_count": 1,
      "outputs": [
        {
          "output_type": "stream",
          "text": [
            "Requirement already satisfied: nltk in /usr/local/lib/python3.6/dist-packages (3.2.5)\n",
            "Requirement already satisfied: six in /usr/local/lib/python3.6/dist-packages (from nltk) (1.12.0)\n"
          ],
          "name": "stdout"
        }
      ]
    },
    {
      "cell_type": "code",
      "metadata": {
        "id": "_m2vJ-voY6GD",
        "colab_type": "code",
        "outputId": "a9b42971-b98a-4f1e-e332-8f0a421c8d6f",
        "colab": {
          "base_uri": "https://localhost:8080/",
          "height": 52
        }
      },
      "source": [
        "# Libraries\n",
        "import numpy as np\n",
        "import pandas as pd\n",
        "import seaborn as sns"
      ],
      "execution_count": 1,
      "outputs": [
        {
          "output_type": "stream",
          "text": [
            "/usr/local/lib/python3.6/dist-packages/statsmodels/tools/_testing.py:19: FutureWarning: pandas.util.testing is deprecated. Use the functions in the public API at pandas.testing instead.\n",
            "  import pandas.util.testing as tm\n"
          ],
          "name": "stderr"
        }
      ]
    },
    {
      "cell_type": "markdown",
      "metadata": {
        "id": "i75kb8T8Y6GG",
        "colab_type": "text"
      },
      "source": [
        "### Step 1: Data Upload and Plot Data\n",
        "Read xlsx file from google drive and store it in a pandas dataframe"
      ]
    },
    {
      "cell_type": "code",
      "metadata": {
        "id": "Af9cksBHY6GG",
        "colab_type": "code",
        "outputId": "0af2436c-3d71-44ab-dc78-fc437be4f351",
        "colab": {
          "base_uri": "https://localhost:8080/",
          "height": 125
        }
      },
      "source": [
        "from google.colab import drive \n",
        "drive.mount('/content/gdrive')\n",
        "\n",
        "jobPostings = pd.read_excel('gdrive/My Drive/Colab Notebooks/Machine Learning/fakeJob_Postings.xlsx' )"
      ],
      "execution_count": 2,
      "outputs": [
        {
          "output_type": "stream",
          "text": [
            "Go to this URL in a browser: https://accounts.google.com/o/oauth2/auth?client_id=947318989803-6bn6qk8qdgf4n4g3pfee6491hc0brc4i.apps.googleusercontent.com&redirect_uri=urn%3aietf%3awg%3aoauth%3a2.0%3aoob&response_type=code&scope=email%20https%3a%2f%2fwww.googleapis.com%2fauth%2fdocs.test%20https%3a%2f%2fwww.googleapis.com%2fauth%2fdrive%20https%3a%2f%2fwww.googleapis.com%2fauth%2fdrive.photos.readonly%20https%3a%2f%2fwww.googleapis.com%2fauth%2fpeopleapi.readonly\n",
            "\n",
            "Enter your authorization code:\n",
            "··········\n",
            "Mounted at /content/gdrive\n"
          ],
          "name": "stdout"
        }
      ]
    },
    {
      "cell_type": "markdown",
      "metadata": {
        "id": "pJC13hB9WNwK",
        "colab_type": "text"
      },
      "source": [
        "#### Display Details about data\n",
        "1. Information about data\n",
        "2. Description head of the data"
      ]
    },
    {
      "cell_type": "code",
      "metadata": {
        "id": "-TJIiBAvcER9",
        "colab_type": "code",
        "outputId": "5ff98829-e44b-4864-fe53-bc633c46ba16",
        "colab": {
          "base_uri": "https://localhost:8080/",
          "height": 336
        }
      },
      "source": [
        "jobPostings = jobPostings.drop(['job_id','title','company_profile','description','benefits','has_company_logo','has_questions'], axis = 1)\n",
        "print(jobPostings.info(),'\\n\\n')\n",
        "print(jobPostings.head())"
      ],
      "execution_count": 3,
      "outputs": [
        {
          "output_type": "stream",
          "text": [
            "<class 'pandas.core.frame.DataFrame'>\n",
            "RangeIndex: 17880 entries, 0 to 17879\n",
            "Data columns (total 2 columns):\n",
            " #   Column        Non-Null Count  Dtype \n",
            "---  ------        --------------  ----- \n",
            " 0   Ground_Truth  17880 non-null  int64 \n",
            " 1   requirements  15147 non-null  object\n",
            "dtypes: int64(1), object(1)\n",
            "memory usage: 279.5+ KB\n",
            "None \n",
            "\n",
            "\n",
            "   Ground_Truth                                       requirements\n",
            "0             0  Experience with content management systems a m...\n",
            "1             0  What we expect from you:Your key responsibilit...\n",
            "2             0  Implement pre-commissioning and commissioning ...\n",
            "3             0  EDUCATION:Â Bachelorâ€™s or Masterâ€™s in GIS,...\n",
            "4             0  QUALIFICATIONS:RN license in the State of Texa...\n"
          ],
          "name": "stdout"
        }
      ]
    },
    {
      "cell_type": "markdown",
      "metadata": {
        "id": "XB0XuiYhmx0a",
        "colab_type": "text"
      },
      "source": [
        "\n",
        "\n"
      ]
    },
    {
      "cell_type": "markdown",
      "metadata": {
        "id": "gXmOJqnkWRXS",
        "colab_type": "text"
      },
      "source": [
        "#### Data Visualization\n",
        "function: initCentroids \n",
        "\n",
        "Take the the picture previously save it in a 3D array an the K number of clusters\n",
        "\n",
        ">Parameters:\n",
        "1. Pie Chart\n",
        ">> Percentage difference between real jobs and fake jobs\n",
        "\n",
        "2. Bar Chart\n",
        ">> Values comparison between real jobs and fake jobs\n"
      ]
    },
    {
      "cell_type": "code",
      "metadata": {
        "id": "TJccNYfceHre",
        "colab_type": "code",
        "outputId": "9a6c8d3a-7748-4036-8d4b-033d4f117aec",
        "colab": {
          "base_uri": "https://localhost:8080/",
          "height": 665
        }
      },
      "source": [
        "import matplotlib.pyplot as plt\n",
        "\n",
        "# Pie chart\n",
        "jobPostings[\"Ground_Truth\"].value_counts().plot(kind = 'pie', figsize = (6, 6), colors = ['green', 'yellow'], fontsize=14, autopct = '%1.1f%%', shadow = True)\n",
        "plt.title('Percentage of Job Postings')\n",
        "plt.ylabel(\"Real vs Fake Job Posting\")\n",
        "plt.legend([\"Real : 0\", \"Fake : 1\"])\n",
        "plt.show()\n",
        "\n",
        "# Bar plot\n",
        "jobPostings[\"Ground_Truth\"].value_counts().plot(kind='bar', stacked=True, color = tuple(['g', 'y']))\n",
        "plt.title('Number of Job Postings')\n",
        "plt.ylabel(\"Total Number of Job Posting\")\n",
        "plt.xlabel(\"Category of Job Post\")\n",
        "plt.show()\n",
        "  ## Values of bars\n",
        "gT = jobPostings['Ground_Truth'].value_counts()\n",
        "a = [int(gT[0]),int(gT[1])]\n",
        "print('Real Jobs: {} | Fake Jobs: {}'.format(a[0], a[1]))"
      ],
      "execution_count": 4,
      "outputs": [
        {
          "output_type": "display_data",
          "data": {
            "image/png": "[encoded data removed]",
            "text/plain": [
              "<Figure size 432x432 with 1 Axes>"
            ]
          },
          "metadata": {
            "tags": []
          }
        },
        {
          "output_type": "display_data",
          "data": {
            "image/png": "[encoded data removed]",
            "text/plain": [
              "<Figure size 432x288 with 1 Axes>"
            ]
          },
          "metadata": {
            "tags": []
          }
        },
        {
          "output_type": "stream",
          "text": [
            "Real Jobs: 17014 | Fake Jobs: 866\n"
          ],
          "name": "stdout"
        }
      ]
    },
    {
      "cell_type": "markdown",
      "metadata": {
        "id": "JUGPjOFGY6GM",
        "colab_type": "text"
      },
      "source": [
        "### Step 2: Data Processing\n",
        "\n",
        "In this section we will massage the raw messages (sequence of characters) into vectors (sequences of numbers)."
      ]
    },
    {
      "cell_type": "markdown",
      "metadata": {
        "id": "mnxrg-Oe1_zq",
        "colab_type": "text"
      },
      "source": [
        "#### Cleaning Data\n",
        "\n",
        "We need to remove any type of stopping words such as ', . \"'"
      ]
    },
    {
      "cell_type": "code",
      "metadata": {
        "id": "ZFYojSSyY6GM",
        "colab_type": "code",
        "colab": {}
      },
      "source": [
        "jobPostings['requirements'] = jobPostings['requirements'].str.replace(r'[^\\w\\s]+', '')"
      ],
      "execution_count": 0,
      "outputs": []
    },
    {
      "cell_type": "code",
      "metadata": {
        "id": "UB_0oOnmWYjJ",
        "colab_type": "code",
        "outputId": "997ffe4a-9374-4c6a-aa0a-c948d165b0d2",
        "colab": {
          "base_uri": "https://localhost:8080/",
          "height": 167
        }
      },
      "source": [
        "jobPostings.groupby('Ground_Truth').describe()"
      ],
      "execution_count": 7,
      "outputs": [
        {
          "output_type": "execute_result",
          "data": {
            "text/html": [
              "<div>\n",
              "<style scoped>\n",
              "    .dataframe tbody tr th:only-of-type {\n",
              "        vertical-align: middle;\n",
              "    }\n",
              "\n",
              "    .dataframe tbody tr th {\n",
              "        vertical-align: top;\n",
              "    }\n",
              "\n",
              "    .dataframe thead tr th {\n",
              "        text-align: left;\n",
              "    }\n",
              "\n",
              "    .dataframe thead tr:last-of-type th {\n",
              "        text-align: right;\n",
              "    }\n",
              "</style>\n",
              "<table border=\"1\" class=\"dataframe\">\n",
              "  <thead>\n",
              "    <tr>\n",
              "      <th></th>\n",
              "      <th colspan=\"4\" halign=\"left\">requirements</th>\n",
              "    </tr>\n",
              "    <tr>\n",
              "      <th></th>\n",
              "      <th>count</th>\n",
              "      <th>unique</th>\n",
              "      <th>top</th>\n",
              "      <th>freq</th>\n",
              "    </tr>\n",
              "    <tr>\n",
              "      <th>Ground_Truth</th>\n",
              "      <th></th>\n",
              "      <th></th>\n",
              "      <th></th>\n",
              "      <th></th>\n",
              "    </tr>\n",
              "  </thead>\n",
              "  <tbody>\n",
              "    <tr>\n",
              "      <th>0</th>\n",
              "      <td>14438</td>\n",
              "      <td>11464</td>\n",
              "      <td>University degree requiredÂ TEFL  TESOL  CELTA...</td>\n",
              "      <td>410</td>\n",
              "    </tr>\n",
              "    <tr>\n",
              "      <th>1</th>\n",
              "      <td>709</td>\n",
              "      <td>474</td>\n",
              "      <td>RequirementsAll you need is access to the Inte...</td>\n",
              "      <td>22</td>\n",
              "    </tr>\n",
              "  </tbody>\n",
              "</table>\n",
              "</div>"
            ],
            "text/plain": [
              "             requirements  ...     \n",
              "                    count  ... freq\n",
              "Ground_Truth               ...     \n",
              "0                   14438  ...  410\n",
              "1                     709  ...   22\n",
              "\n",
              "[2 rows x 4 columns]"
            ]
          },
          "metadata": {
            "tags": []
          },
          "execution_count": 7
        }
      ]
    },
    {
      "cell_type": "markdown",
      "metadata": {
        "id": "zei3Pc6gY4Ey",
        "colab_type": "text"
      },
      "source": [
        "#### Tokenize Data and Normalize Data\n",
        "\n",
        "1. We will use a bag-of-words approach to make unique words be represented by a one number \n",
        "2. Using Natural Language Processing we will normalize text"
      ]
    },
    {
      "cell_type": "code",
      "metadata": {
        "id": "NKRq3skcfHFa",
        "colab_type": "code",
        "outputId": "afa44b35-9c98-4fd0-de5e-e76f08c5e4a0",
        "colab": {
          "base_uri": "https://localhost:8080/",
          "height": 87
        }
      },
      "source": [
        "import nltk\n",
        "nltk.download('punkt')\n",
        "nltk.download('wordnet')\n",
        "from textblob import TextBlob"
      ],
      "execution_count": 14,
      "outputs": [
        {
          "output_type": "stream",
          "text": [
            "[nltk_data] Downloading package punkt to /root/nltk_data...\n",
            "[nltk_data]   Unzipping tokenizers/punkt.zip.\n",
            "[nltk_data] Downloading package wordnet to /root/nltk_data...\n",
            "[nltk_data]   Unzipping corpora/wordnet.zip.\n"
          ],
          "name": "stdout"
        }
      ]
    },
    {
      "cell_type": "code",
      "metadata": {
        "id": "Hcx4nBdBY22y",
        "colab_type": "code",
        "colab": {}
      },
      "source": [
        "def split_into_tokens(message):\n",
        "    message = str(message.encode('utf8'))  # convert bytes into proper unicode\n",
        "    return TextBlob(message).words"
      ],
      "execution_count": 0,
      "outputs": []
    },
    {
      "cell_type": "code",
      "metadata": {
        "id": "IkkOwYdNVksU",
        "colab_type": "code",
        "outputId": "04342c9f-1c04-47e1-8476-bad4df58bb31",
        "colab": {
          "base_uri": "https://localhost:8080/",
          "height": 123
        }
      },
      "source": [
        "# Original text\n",
        "jobPostings.requirements.head()"
      ],
      "execution_count": 15,
      "outputs": [
        {
          "output_type": "execute_result",
          "data": {
            "text/plain": [
              "0    Experience with content management systems a m...\n",
              "1    What we expect from youYour key responsibility...\n",
              "2    Implement precommissioning and commissioning p...\n",
              "3    EDUCATIONÂ Bachelorâs or Masterâs in GIS busin...\n",
              "4    QUALIFICATIONSRN license in the State of Texas...\n",
              "Name: requirements, dtype: object"
            ]
          },
          "metadata": {
            "tags": []
          },
          "execution_count": 15
        }
      ]
    },
    {
      "cell_type": "code",
      "metadata": {
        "id": "zcddCMmPVm36",
        "colab_type": "code",
        "outputId": "5c5e72e1-64e4-46a5-b948-f4cd37631fbd",
        "colab": {
          "base_uri": "https://localhost:8080/",
          "height": 123
        }
      },
      "source": [
        "# Tokenized text\n",
        "jobPostings.requirements.head().apply(split_into_tokens)"
      ],
      "execution_count": 16,
      "outputs": [
        {
          "output_type": "execute_result",
          "data": {
            "text/plain": [
              "0    [b'Experience, with, content, management, syst...\n",
              "1    [b'What, we, expect, from, youYour, key, respo...\n",
              "2    [b'Implement, precommissioning, and, commissio...\n",
              "3    [b'EDUCATION\\xc3\\x82\\xc2\\xa0Bachelor\\xc3\\xa2s,...\n",
              "4    [b'QUALIFICATIONSRN, license, in, the, State, ...\n",
              "Name: requirements, dtype: object"
            ]
          },
          "metadata": {
            "tags": []
          },
          "execution_count": 16
        }
      ]
    },
    {
      "cell_type": "code",
      "metadata": {
        "id": "Nu9KFlL9hAQT",
        "colab_type": "code",
        "outputId": "f2e910a4-bb58-430b-b93b-b6c5df3e4b43",
        "colab": {
          "base_uri": "https://localhost:8080/",
          "height": 123
        }
      },
      "source": [
        "# Normalized data in their base form\n",
        "def split_into_lemmas(message):\n",
        "    message = str(message.encode('utf8')).lower()\n",
        "    words = TextBlob(message).words\n",
        "    # for each word, take its \"base form\" = lemma \n",
        "    return [word.lemma for word in words]\n",
        "\n",
        "jobPostings.requirements.head().apply(split_into_lemmas)"
      ],
      "execution_count": 18,
      "outputs": [
        {
          "output_type": "execute_result",
          "data": {
            "text/plain": [
              "0    [b'experience, with, content, management, syst...\n",
              "1    [b'what, we, expect, from, youyour, key, respo...\n",
              "2    [b'implement, precommissioning, and, commissio...\n",
              "3    [b'education\\xc3\\x82\\xc2\\xa0bachelor\\xc3\\xa2s,...\n",
              "4    [b'qualificationsrn, license, in, the, state, ...\n",
              "Name: requirements, dtype: object"
            ]
          },
          "metadata": {
            "tags": []
          },
          "execution_count": 18
        }
      ]
    },
    {
      "cell_type": "markdown",
      "metadata": {
        "id": "W0z243tZDBRL",
        "colab_type": "text"
      },
      "source": [
        "### Step 3: Training a model detecting spam\n",
        "\n",
        "With messages represented as vectors, we can finally train our spam/ham classifier. This part is pretty straightforward, and there are many libraries that realize the training algorithms.\n",
        "\n",
        "1. We need to split data in training and test\n",
        "2. We'll be using scikit-learn here, choosing the Naive Bayes classifier to start with:"
      ]
    },
    {
      "cell_type": "code",
      "metadata": {
        "id": "Qw901Y_xVnIK",
        "colab_type": "code",
        "outputId": "6c2d6442-04b4-40a1-ddb1-075b047ce2c4",
        "colab": {
          "base_uri": "https://localhost:8080/",
          "height": 52
        }
      },
      "source": [
        "from sklearn.feature_extraction.text import CountVectorizer, TfidfTransformer\n",
        "\n",
        "features_np = CountVectorizer(analyzer=split_into_lemmas).fit_transform(jobPostings['requirements'].values.astype('U'))\n",
        "features_np"
      ],
      "execution_count": 19,
      "outputs": [
        {
          "output_type": "execute_result",
          "data": {
            "text/plain": [
              "<17880x83786 sparse matrix of type '<class 'numpy.int64'>'\n",
              "\twith 982483 stored elements in Compressed Sparse Row format>"
            ]
          },
          "metadata": {
            "tags": []
          },
          "execution_count": 19
        }
      ]
    },
    {
      "cell_type": "code",
      "metadata": {
        "id": "SPGa6zSeS5SY",
        "colab_type": "code",
        "outputId": "4be4e2fc-a365-4b19-861d-eafeedceb7b0",
        "colab": {
          "base_uri": "https://localhost:8080/",
          "height": 34
        }
      },
      "source": [
        "category_np = jobPostings['Ground_Truth'].to_numpy()\n",
        "category_np"
      ],
      "execution_count": 20,
      "outputs": [
        {
          "output_type": "execute_result",
          "data": {
            "text/plain": [
              "array([0, 0, 0, ..., 0, 0, 0])"
            ]
          },
          "metadata": {
            "tags": []
          },
          "execution_count": 20
        }
      ]
    },
    {
      "cell_type": "code",
      "metadata": {
        "id": "MQ9f8PByS9ue",
        "colab_type": "code",
        "outputId": "de501c4c-ea9b-45c2-f01a-4c462aafa662",
        "colab": {
          "base_uri": "https://localhost:8080/",
          "height": 105
        }
      },
      "source": [
        "from sklearn.model_selection import train_test_split\n",
        "X_train, X_test, y_train, y_test = train_test_split(features_np, category_np, stratify = category_np, test_size = 0.3, random_state=1)\n",
        "X_train.shape\n",
        "print(\"The size of fake jobs:\",gT[0])\n",
        "print(\"The sie of real jobs:\",gT[1])\n",
        "print(\"The size of total samples:\",features_np.shape[0])\n",
        "print(\"The size of training samples:\",X_train.shape[0])\n",
        "print(\"The size of testing data:\",X_test.shape[0])"
      ],
      "execution_count": 21,
      "outputs": [
        {
          "output_type": "stream",
          "text": [
            "The size of fake jobs: 17014\n",
            "The sie of real jobs: 866\n",
            "The size of total samples: 17880\n",
            "The size of training samples: 12516\n",
            "The size of testing data: 5364\n"
          ],
          "name": "stdout"
        }
      ]
    },
    {
      "cell_type": "code",
      "metadata": {
        "id": "Jcy3rZF4Y6GO",
        "colab_type": "code",
        "colab": {}
      },
      "source": [
        "from sklearn.naive_bayes import MultinomialNB\n",
        "clf = MultinomialNB()\n",
        "# fit data\n",
        "clf.fit(X_train, y_train)\n",
        "MultinomialNB()\n",
        "pred = clf.predict(X_test)"
      ],
      "execution_count": 0,
      "outputs": []
    },
    {
      "cell_type": "markdown",
      "metadata": {
        "id": "IBU7LsqfY6GQ",
        "colab_type": "text"
      },
      "source": [
        "### Step 4: Accuracy\n",
        "\n",
        "We need to compare the predicted values with the real values.\n",
        "Two implementations for accuracy\n",
        "\n",
        "1. Using for loop and comparing this real and fake outputs\n",
        "2. Funcion accuracy_score from sklearn library"
      ]
    },
    {
      "cell_type": "code",
      "metadata": {
        "id": "6vk3pgBIY6GQ",
        "colab_type": "code",
        "outputId": "37c329c5-0e4a-43f2-af9c-a5fcee4fb36a",
        "colab": {
          "base_uri": "https://localhost:8080/",
          "height": 52
        }
      },
      "source": [
        "from sklearn.metrics import accuracy_score\n",
        "\n",
        "count = 0\n",
        "for i in range (0, X_test.shape[0]):\n",
        "    if pred[i] == y_test[i]:\n",
        "         count += 1\n",
        "print (\"accuracy:\",count/y_test.shape[0])\n",
        "\n",
        "score=accuracy_score(pred,y_test)\n",
        "score"
      ],
      "execution_count": 23,
      "outputs": [
        {
          "output_type": "stream",
          "text": [
            "accuracy: 0.948173005219985\n"
          ],
          "name": "stdout"
        },
        {
          "output_type": "execute_result",
          "data": {
            "text/plain": [
              "0.948173005219985"
            ]
          },
          "metadata": {
            "tags": []
          },
          "execution_count": 23
        }
      ]
    },
    {
      "cell_type": "markdown",
      "metadata": {
        "id": "AM10n2WtY6GU",
        "colab_type": "text"
      },
      "source": [
        "### Summary\n",
        "\n",
        "Overall my implementation of finding fake job posting is good. Using built-in libraries for ml algorithm allows me to explore new functions and ways of implementation of ml algorithms. A learn how to plot data so the use can have a better picture of which data is being process and how the values will impact in the final result. Furthermore, I learned how to process data by using bag-of-words approach and vectorizing the data so the libraries of ml can work in a better way. Finally, I was able to applied what we learn in class of splitting data in training and testing set and getting accuracy for the training model.\n",
        "\n",
        "One big implementation that I was trying to keep as low as possible was the memory RAM and disk usage. I was looking for libraries and implementation so my code can do a good performance without taking to many computer resources. As my code succesfully completed the requirents for the project the final usage of the compute engine backend were:\n",
        "RAM: 1.13GB / 25.51GB\n",
        "DISK: 31.01GB / 107.77GB\n",
        "\n",
        "In conclusion I would like to have a low disk usage by using other algorithms but this is a intro to ml so I am comfortable with my results. <b>Thank you professor for giving us a extension deadline and I hope my project met your critiria for this project.</b>\n",
        "\n",
        "\n",
        "best,\n",
        "\n",
        "John Estrada"
      ]
    }
  ]
}